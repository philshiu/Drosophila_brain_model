{
 "cells": [
  {
   "cell_type": "code",
   "execution_count": 1,
   "metadata": {},
   "outputs": [
    {
     "name": "stderr",
     "output_type": "stream",
     "text": [
      "INFO       Cache size for target 'cython': 3837278736 MB.\n",
      "You can call clear_cache('cython') to delete all files from the cache or manually delete files in the 'C:\\Users\\spillern\\.cython\\brian_extensions' directory. [brian2]\n"
     ]
    }
   ],
   "source": [
    "from model import run_exp\n",
    "from model import default_params as params\n",
    "import utils as utl\n",
    "from brian2 import Hz\n",
    "\n",
    "config = {\n",
    "    'path_res'  : './results/', # directory to store results\n",
    "    'path_comp' : './2023_02_01_completeness_587_final.csv', # completness data\n",
    "    'path_con'  : './2023_02_01_connectivity_587_final.parquet', # connectivity data\n",
    "    'n_proc'    : -1, # number of CPU cores (-1: use all)\n",
    "}"
   ]
  },
  {
   "attachments": {},
   "cell_type": "markdown",
   "metadata": {},
   "source": [
    "# Introduction\n",
    "## Underlying connectivity data\n",
    "The connectivity of the fly brain is stored in the folowing files:\n",
    "- completness table: `config['path_comp']`\n",
    "-  connectivity talbe: `config['path_con]`\n",
    "\n",
    "## Model parameters\n",
    "The equation and constants for the leaky integrate and fire model are defined \n",
    "in the dictionary `default_params` in the beginning of the file `model.py`:\n",
    "\n",
    "```\n",
    "default_params = {\n",
    "    # trials\n",
    "    't_run'     : 1000 * ms,              # duration of trial\n",
    "    'n_run'     : 30,                     # number of runs\n",
    "\n",
    "    'v_0'       : -52 * mV,               # resting potential\n",
    "    'v_rst'     : -52 * mV,               # reset potential after spike\n",
    "    [...]\n",
    "```\n",
    "We can also change values and pass the modified dictionary to the model (see Experiment 1).\n",
    "\n",
    "## How to adress neurons\n",
    "We can adress neurons, e.g. in order to stimulate or silence them in an experiment, \n",
    "through either their flywire ID or through custom names.\n",
    "For the later we need to define the mapping between the custom names and the flywire ID in\n",
    "a dictionary:\n",
    "```\n",
    "name2flyid = {\n",
    "    'neuronA'     : 720575940624963786,\n",
    "    'neuronB'     : 720575940630233916,\n",
    "    [...]\n",
    "```"
   ]
  },
  {
   "attachments": {},
   "cell_type": "markdown",
   "metadata": {},
   "source": [
    "# Experiment 1\n",
    "## Stimulate neurons\n",
    "\n",
    "Here, we want to stimulate the sugar-sensing neurons in the right hemisphere using\n",
    "different frequencies. \n",
    "The neurons of interest and their respecive flywire IDs are defined as follows:"
   ]
  },
  {
   "cell_type": "code",
   "execution_count": 14,
   "metadata": {},
   "outputs": [],
   "source": [
    "name2flyid = {\n",
    "    'sugar_r_0'     : 720575940624963786,\n",
    "    'sugar_r_1'     : 720575940630233916,\n",
    "    'sugar_r_2'     : 720575940637568838,\n",
    "    'sugar_r_3'     : 720575940638202345,\n",
    "    'sugar_r_4'     : 720575940617000768,\n",
    "    'sugar_r_5'     : 720575940630797113,\n",
    "    'sugar_r_6'     : 720575940632889389,\n",
    "    'sugar_r_7'     : 720575940621754367,\n",
    "    'sugar_r_8'     : 720575940621502051,\n",
    "    'sugar_r_9'     : 720575940640649691,\n",
    "    'sugar_r_10'    : 720575940639332736,\n",
    "    'sugar_r_11'    : 720575940616885538,\n",
    "    'sugar_r_12'    : 720575940639198653,\n",
    "    'sugar_r_13'    : 720575940620900446,\n",
    "    'sugar_r_14'    : 720575940617937543,\n",
    "    'sugar_r_15'    : 720575940632425919,\n",
    "    'sugar_r_16'    : 720575940633143833,\n",
    "    'sugar_r_17'    : 720575940612670570,\n",
    "    'sugar_r_18'    : 720575940628853239,\n",
    "    'sugar_r_19'    : 720575940629176663,\n",
    "    'sugar_r_20'    : 720575940611875570,\n",
    "}"
   ]
  },
  {
   "attachments": {},
   "cell_type": "markdown",
   "metadata": {},
   "source": [
    "We can either define them as stimlated neurons throught their flywire IDs or through the names we gave them. \n",
    "Let's use the names:"
   ]
  },
  {
   "cell_type": "code",
   "execution_count": 15,
   "metadata": {},
   "outputs": [],
   "source": [
    "neu_sugar = [ n for n in name2flyid.keys() if n.startswith('sugar_') ]"
   ]
  },
  {
   "attachments": {},
   "cell_type": "markdown",
   "metadata": {},
   "source": [
    "To run a simulation exciting these nerons we have to call `run_exp` supplying the following:\n",
    "- unique name for the simulation: `exp_name`\n",
    "- a list of neurons we want to stimulate: `neu_sugar`\n",
    "- the mapping to flywire IDs, since we are using custom names: `name2flyid`\n",
    "- the connectivity data: `config['path_comp']` and `config['path_con]`\n",
    "- path to store the output: `config['path_res']`\n",
    "- number of CPU cores use: `config['n_procs]`"
   ]
  },
  {
   "cell_type": "code",
   "execution_count": 4,
   "metadata": {},
   "outputs": [
    {
     "name": "stdout",
     "output_type": "stream",
     "text": [
      ">>> Experiment:     sugarR\n",
      "    Output file:    results\\sugarR.parquet\n",
      "    Exited neurons: sugar_r_0 sugar_r_1 sugar_r_2 sugar_r_3 sugar_r_4 sugar_r_5 sugar_r_6 sugar_r_7 sugar_r_8 sugar_r_9 sugar_r_10 sugar_r_11 sugar_r_12 sugar_r_13 sugar_r_14 sugar_r_15 sugar_r_16 sugar_r_17 sugar_r_18 sugar_r_19 sugar_r_20\n",
      "    Elapsed time:   68 s\n"
     ]
    }
   ],
   "source": [
    "run_exp(exp_name='sugarR', neu_exc=neu_sugar, name2flyid=name2flyid, **config)"
   ]
  },
  {
   "attachments": {},
   "cell_type": "markdown",
   "metadata": {},
   "source": [
    "## Changing the stimulation frequency\n",
    "We can control the stimulation frequency by modifying the value for `r_poi`\n",
    "in the `default_params` dictionary. \n",
    "Since physical quantities in `brian2` have to have the correct unit, we need to use the `brian2.Hz` object \n",
    "to define a frequency."
   ]
  },
  {
   "cell_type": "code",
   "execution_count": 6,
   "metadata": {},
   "outputs": [
    {
     "name": "stdout",
     "output_type": "stream",
     "text": [
      ">>> Experiment:     sugarR_20Hz\n",
      "    Output file:    results\\sugarR_20Hz.parquet\n",
      "    Exited neurons: sugar_r_0 sugar_r_1 sugar_r_2 sugar_r_3 sugar_r_4 sugar_r_5 sugar_r_6 sugar_r_7 sugar_r_8 sugar_r_9 sugar_r_10 sugar_r_11 sugar_r_12 sugar_r_13 sugar_r_14 sugar_r_15 sugar_r_16 sugar_r_17 sugar_r_18 sugar_r_19 sugar_r_20\n",
      "    Elapsed time:   317 s\n",
      ">>> Experiment:     sugarR_40Hz\n",
      "    Output file:    results\\sugarR_40Hz.parquet\n",
      "    Exited neurons: sugar_r_0 sugar_r_1 sugar_r_2 sugar_r_3 sugar_r_4 sugar_r_5 sugar_r_6 sugar_r_7 sugar_r_8 sugar_r_9 sugar_r_10 sugar_r_11 sugar_r_12 sugar_r_13 sugar_r_14 sugar_r_15 sugar_r_16 sugar_r_17 sugar_r_18 sugar_r_19 sugar_r_20\n",
      "    Elapsed time:   337 s\n",
      ">>> Experiment:     sugarR_60Hz\n",
      "    Output file:    results\\sugarR_60Hz.parquet\n",
      "    Exited neurons: sugar_r_0 sugar_r_1 sugar_r_2 sugar_r_3 sugar_r_4 sugar_r_5 sugar_r_6 sugar_r_7 sugar_r_8 sugar_r_9 sugar_r_10 sugar_r_11 sugar_r_12 sugar_r_13 sugar_r_14 sugar_r_15 sugar_r_16 sugar_r_17 sugar_r_18 sugar_r_19 sugar_r_20\n",
      "    Elapsed time:   342 s\n",
      ">>> Experiment:     sugarR_80Hz\n",
      "    Output file:    results\\sugarR_80Hz.parquet\n",
      "    Exited neurons: sugar_r_0 sugar_r_1 sugar_r_2 sugar_r_3 sugar_r_4 sugar_r_5 sugar_r_6 sugar_r_7 sugar_r_8 sugar_r_9 sugar_r_10 sugar_r_11 sugar_r_12 sugar_r_13 sugar_r_14 sugar_r_15 sugar_r_16 sugar_r_17 sugar_r_18 sugar_r_19 sugar_r_20\n",
      "    Elapsed time:   239 s\n",
      ">>> Experiment:     sugarR_100Hz\n",
      "    Output file:    results\\sugarR_100Hz.parquet\n",
      "    Exited neurons: sugar_r_0 sugar_r_1 sugar_r_2 sugar_r_3 sugar_r_4 sugar_r_5 sugar_r_6 sugar_r_7 sugar_r_8 sugar_r_9 sugar_r_10 sugar_r_11 sugar_r_12 sugar_r_13 sugar_r_14 sugar_r_15 sugar_r_16 sugar_r_17 sugar_r_18 sugar_r_19 sugar_r_20\n",
      "    Elapsed time:   385 s\n"
     ]
    }
   ],
   "source": [
    "freqs =  [20, 40, 60, 80, 100]\n",
    "for f in freqs:\n",
    "    params['r_poi'] = f * Hz\n",
    "    run_exp(exp_name='sugarR_{}Hz'.format(f), neu_exc=neu_sugar, name2flyid=name2flyid, params=params, **config)"
   ]
  },
  {
   "attachments": {},
   "cell_type": "markdown",
   "metadata": {},
   "source": [
    "## Analyzing the results\n",
    "The `.parquet` file created during a simulation contains all spikes times.\n",
    "We load the data from disk via `utl.load_exps`, which takes a list of results as argument.\n",
    "The spike times can be converted to spike rates via `utl.get_rate`, which requires the duration of each trial.\n",
    "`utl.get_rate` returns `pandas.DataFrame` objects:\n",
    "1. spike rate for each neuron (rows) in each experiment (column): `df_rate`\n",
    "2. standard deviation of rate across trials: `df_rate_std`"
   ]
  },
  {
   "cell_type": "code",
   "execution_count": 4,
   "metadata": {},
   "outputs": [
    {
     "data": {
      "text/html": [
       "<div>\n",
       "<style scoped>\n",
       "    .dataframe tbody tr th:only-of-type {\n",
       "        vertical-align: middle;\n",
       "    }\n",
       "\n",
       "    .dataframe tbody tr th {\n",
       "        vertical-align: top;\n",
       "    }\n",
       "\n",
       "    .dataframe thead th {\n",
       "        text-align: right;\n",
       "    }\n",
       "</style>\n",
       "<table border=\"1\" class=\"dataframe\">\n",
       "  <thead>\n",
       "    <tr style=\"text-align: right;\">\n",
       "      <th>exp_name</th>\n",
       "      <th>sugarR_100Hz</th>\n",
       "      <th>sugarR_20Hz</th>\n",
       "      <th>sugarR_40Hz</th>\n",
       "      <th>sugarR_60Hz</th>\n",
       "      <th>sugarR_80Hz</th>\n",
       "    </tr>\n",
       "    <tr>\n",
       "      <th>flyid</th>\n",
       "      <th></th>\n",
       "      <th></th>\n",
       "      <th></th>\n",
       "      <th></th>\n",
       "      <th></th>\n",
       "    </tr>\n",
       "  </thead>\n",
       "  <tbody>\n",
       "    <tr>\n",
       "      <th>720575940622695448</th>\n",
       "      <td>114.700000</td>\n",
       "      <td>34.133333</td>\n",
       "      <td>65.700000</td>\n",
       "      <td>86.600000</td>\n",
       "      <td>102.533333</td>\n",
       "    </tr>\n",
       "    <tr>\n",
       "      <th>720575940632889389</th>\n",
       "      <td>103.633333</td>\n",
       "      <td>19.966667</td>\n",
       "      <td>39.533333</td>\n",
       "      <td>60.633333</td>\n",
       "      <td>76.533333</td>\n",
       "    </tr>\n",
       "    <tr>\n",
       "      <th>720575940629888530</th>\n",
       "      <td>101.633333</td>\n",
       "      <td>30.400000</td>\n",
       "      <td>56.733333</td>\n",
       "      <td>76.033333</td>\n",
       "      <td>90.966667</td>\n",
       "    </tr>\n",
       "    <tr>\n",
       "      <th>720575940637568838</th>\n",
       "      <td>101.500000</td>\n",
       "      <td>19.700000</td>\n",
       "      <td>40.733333</td>\n",
       "      <td>58.900000</td>\n",
       "      <td>77.500000</td>\n",
       "    </tr>\n",
       "    <tr>\n",
       "      <th>720575940621502051</th>\n",
       "      <td>100.900000</td>\n",
       "      <td>20.033333</td>\n",
       "      <td>39.000000</td>\n",
       "      <td>59.533333</td>\n",
       "      <td>80.433333</td>\n",
       "    </tr>\n",
       "    <tr>\n",
       "      <th>...</th>\n",
       "      <td>...</td>\n",
       "      <td>...</td>\n",
       "      <td>...</td>\n",
       "      <td>...</td>\n",
       "      <td>...</td>\n",
       "    </tr>\n",
       "    <tr>\n",
       "      <th>720575940630233404</th>\n",
       "      <td>NaN</td>\n",
       "      <td>NaN</td>\n",
       "      <td>1.000000</td>\n",
       "      <td>NaN</td>\n",
       "      <td>NaN</td>\n",
       "    </tr>\n",
       "    <tr>\n",
       "      <th>720575940630461404</th>\n",
       "      <td>NaN</td>\n",
       "      <td>NaN</td>\n",
       "      <td>NaN</td>\n",
       "      <td>1.000000</td>\n",
       "      <td>NaN</td>\n",
       "    </tr>\n",
       "    <tr>\n",
       "      <th>720575940630548751</th>\n",
       "      <td>NaN</td>\n",
       "      <td>NaN</td>\n",
       "      <td>NaN</td>\n",
       "      <td>NaN</td>\n",
       "      <td>1.000000</td>\n",
       "    </tr>\n",
       "    <tr>\n",
       "      <th>720575940633443097</th>\n",
       "      <td>NaN</td>\n",
       "      <td>NaN</td>\n",
       "      <td>1.000000</td>\n",
       "      <td>NaN</td>\n",
       "      <td>NaN</td>\n",
       "    </tr>\n",
       "    <tr>\n",
       "      <th>720575940647228468</th>\n",
       "      <td>NaN</td>\n",
       "      <td>NaN</td>\n",
       "      <td>1.000000</td>\n",
       "      <td>1.250000</td>\n",
       "      <td>1.000000</td>\n",
       "    </tr>\n",
       "  </tbody>\n",
       "</table>\n",
       "<p>430 rows × 5 columns</p>\n",
       "</div>"
      ],
      "text/plain": [
       "exp_name            sugarR_100Hz  sugarR_20Hz  sugarR_40Hz  sugarR_60Hz  \\\n",
       "flyid                                                                     \n",
       "720575940622695448    114.700000    34.133333    65.700000    86.600000   \n",
       "720575940632889389    103.633333    19.966667    39.533333    60.633333   \n",
       "720575940629888530    101.633333    30.400000    56.733333    76.033333   \n",
       "720575940637568838    101.500000    19.700000    40.733333    58.900000   \n",
       "720575940621502051    100.900000    20.033333    39.000000    59.533333   \n",
       "...                          ...          ...          ...          ...   \n",
       "720575940630233404           NaN          NaN     1.000000          NaN   \n",
       "720575940630461404           NaN          NaN          NaN     1.000000   \n",
       "720575940630548751           NaN          NaN          NaN          NaN   \n",
       "720575940633443097           NaN          NaN     1.000000          NaN   \n",
       "720575940647228468           NaN          NaN     1.000000     1.250000   \n",
       "\n",
       "exp_name            sugarR_80Hz  \n",
       "flyid                            \n",
       "720575940622695448   102.533333  \n",
       "720575940632889389    76.533333  \n",
       "720575940629888530    90.966667  \n",
       "720575940637568838    77.500000  \n",
       "720575940621502051    80.433333  \n",
       "...                         ...  \n",
       "720575940630233404          NaN  \n",
       "720575940630461404          NaN  \n",
       "720575940630548751     1.000000  \n",
       "720575940633443097          NaN  \n",
       "720575940647228468     1.000000  \n",
       "\n",
       "[430 rows x 5 columns]"
      ]
     },
     "execution_count": 4,
     "metadata": {},
     "output_type": "execute_result"
    }
   ],
   "source": [
    "ps = [\n",
    "    './results/sugarR_20Hz.parquet',\n",
    "    './results/sugarR_40Hz.parquet',\n",
    "    './results/sugarR_60Hz.parquet',\n",
    "    './results/sugarR_80Hz.parquet',\n",
    "    './results/sugarR_100Hz.parquet',\n",
    "]\n",
    "\n",
    "df_spike = utl.load_exps(ps)\n",
    "df_rate, df_rate_std = utl.get_rate(df_spike, duration=params['t_run'])\n",
    "df_rate.sort_values('sugarR_100Hz', ascending=False, inplace=True)\n",
    "df_rate"
   ]
  },
  {
   "attachments": {},
   "cell_type": "markdown",
   "metadata": {},
   "source": [
    "# Experiment 2"
   ]
  },
  {
   "cell_type": "code",
   "execution_count": 6,
   "metadata": {},
   "outputs": [],
   "source": [
    "id_top100 = df_rate.sort_values('sugarR_100Hz', ascending=False).index[:100]"
   ]
  },
  {
   "cell_type": "markdown",
   "metadata": {},
   "source": [
    "## Run simulations"
   ]
  },
  {
   "cell_type": "code",
   "execution_count": 5,
   "metadata": {},
   "outputs": [],
   "source": [
    "params['r_poi'] = 200 * Hz\n",
    "\n",
    "for i in id_top100:\n",
    "    run_exp(exp_name=str(i), neu_exc=[ i ], params=params, **config)"
   ]
  },
  {
   "cell_type": "markdown",
   "metadata": {},
   "source": [
    "## Analyze results"
   ]
  },
  {
   "cell_type": "code",
   "execution_count": 7,
   "metadata": {},
   "outputs": [
    {
     "data": {
      "text/html": [
       "<div>\n",
       "<style scoped>\n",
       "    .dataframe tbody tr th:only-of-type {\n",
       "        vertical-align: middle;\n",
       "    }\n",
       "\n",
       "    .dataframe tbody tr th {\n",
       "        vertical-align: top;\n",
       "    }\n",
       "\n",
       "    .dataframe thead th {\n",
       "        text-align: right;\n",
       "    }\n",
       "</style>\n",
       "<table border=\"1\" class=\"dataframe\">\n",
       "  <thead>\n",
       "    <tr style=\"text-align: right;\">\n",
       "      <th>exp_name</th>\n",
       "      <th>720575940617937543</th>\n",
       "      <th>720575940621502051</th>\n",
       "      <th>720575940622695448</th>\n",
       "      <th>720575940627383685</th>\n",
       "      <th>720575940629888530</th>\n",
       "      <th>720575940632889389</th>\n",
       "      <th>720575940637568838</th>\n",
       "    </tr>\n",
       "    <tr>\n",
       "      <th>flyid</th>\n",
       "      <th></th>\n",
       "      <th></th>\n",
       "      <th></th>\n",
       "      <th></th>\n",
       "      <th></th>\n",
       "      <th></th>\n",
       "      <th></th>\n",
       "    </tr>\n",
       "  </thead>\n",
       "  <tbody>\n",
       "    <tr>\n",
       "      <th>720575940605301438</th>\n",
       "      <td>1.588235</td>\n",
       "      <td>NaN</td>\n",
       "      <td>NaN</td>\n",
       "      <td>NaN</td>\n",
       "      <td>NaN</td>\n",
       "      <td>NaN</td>\n",
       "      <td>NaN</td>\n",
       "    </tr>\n",
       "    <tr>\n",
       "      <th>720575940605658033</th>\n",
       "      <td>1.000000</td>\n",
       "      <td>NaN</td>\n",
       "      <td>NaN</td>\n",
       "      <td>NaN</td>\n",
       "      <td>NaN</td>\n",
       "      <td>NaN</td>\n",
       "      <td>NaN</td>\n",
       "    </tr>\n",
       "    <tr>\n",
       "      <th>720575940606607234</th>\n",
       "      <td>1.000000</td>\n",
       "      <td>NaN</td>\n",
       "      <td>NaN</td>\n",
       "      <td>NaN</td>\n",
       "      <td>NaN</td>\n",
       "      <td>NaN</td>\n",
       "      <td>NaN</td>\n",
       "    </tr>\n",
       "    <tr>\n",
       "      <th>720575940606866377</th>\n",
       "      <td>NaN</td>\n",
       "      <td>NaN</td>\n",
       "      <td>NaN</td>\n",
       "      <td>NaN</td>\n",
       "      <td>NaN</td>\n",
       "      <td>NaN</td>\n",
       "      <td>2.833333</td>\n",
       "    </tr>\n",
       "    <tr>\n",
       "      <th>720575940607193986</th>\n",
       "      <td>1.000000</td>\n",
       "      <td>NaN</td>\n",
       "      <td>NaN</td>\n",
       "      <td>NaN</td>\n",
       "      <td>NaN</td>\n",
       "      <td>NaN</td>\n",
       "      <td>NaN</td>\n",
       "    </tr>\n",
       "    <tr>\n",
       "      <th>...</th>\n",
       "      <td>...</td>\n",
       "      <td>...</td>\n",
       "      <td>...</td>\n",
       "      <td>...</td>\n",
       "      <td>...</td>\n",
       "      <td>...</td>\n",
       "      <td>...</td>\n",
       "    </tr>\n",
       "    <tr>\n",
       "      <th>720575940649829241</th>\n",
       "      <td>NaN</td>\n",
       "      <td>NaN</td>\n",
       "      <td>NaN</td>\n",
       "      <td>NaN</td>\n",
       "      <td>1.214286</td>\n",
       "      <td>NaN</td>\n",
       "      <td>NaN</td>\n",
       "    </tr>\n",
       "    <tr>\n",
       "      <th>720575940652580086</th>\n",
       "      <td>5.066667</td>\n",
       "      <td>2.173913</td>\n",
       "      <td>NaN</td>\n",
       "      <td>NaN</td>\n",
       "      <td>15.833333</td>\n",
       "      <td>NaN</td>\n",
       "      <td>NaN</td>\n",
       "    </tr>\n",
       "    <tr>\n",
       "      <th>720575940655014049</th>\n",
       "      <td>1.437500</td>\n",
       "      <td>NaN</td>\n",
       "      <td>NaN</td>\n",
       "      <td>NaN</td>\n",
       "      <td>NaN</td>\n",
       "      <td>NaN</td>\n",
       "      <td>NaN</td>\n",
       "    </tr>\n",
       "    <tr>\n",
       "      <th>720575940660219265</th>\n",
       "      <td>7.100000</td>\n",
       "      <td>NaN</td>\n",
       "      <td>NaN</td>\n",
       "      <td>NaN</td>\n",
       "      <td>3.172414</td>\n",
       "      <td>NaN</td>\n",
       "      <td>NaN</td>\n",
       "    </tr>\n",
       "    <tr>\n",
       "      <th>720575940660229505</th>\n",
       "      <td>1.526316</td>\n",
       "      <td>NaN</td>\n",
       "      <td>NaN</td>\n",
       "      <td>NaN</td>\n",
       "      <td>NaN</td>\n",
       "      <td>NaN</td>\n",
       "      <td>NaN</td>\n",
       "    </tr>\n",
       "  </tbody>\n",
       "</table>\n",
       "<p>129 rows × 7 columns</p>\n",
       "</div>"
      ],
      "text/plain": [
       "exp_name            720575940617937543  720575940621502051  \\\n",
       "flyid                                                        \n",
       "720575940605301438            1.588235                 NaN   \n",
       "720575940605658033            1.000000                 NaN   \n",
       "720575940606607234            1.000000                 NaN   \n",
       "720575940606866377                 NaN                 NaN   \n",
       "720575940607193986            1.000000                 NaN   \n",
       "...                                ...                 ...   \n",
       "720575940649829241                 NaN                 NaN   \n",
       "720575940652580086            5.066667            2.173913   \n",
       "720575940655014049            1.437500                 NaN   \n",
       "720575940660219265            7.100000                 NaN   \n",
       "720575940660229505            1.526316                 NaN   \n",
       "\n",
       "exp_name            720575940622695448  720575940627383685  \\\n",
       "flyid                                                        \n",
       "720575940605301438                 NaN                 NaN   \n",
       "720575940605658033                 NaN                 NaN   \n",
       "720575940606607234                 NaN                 NaN   \n",
       "720575940606866377                 NaN                 NaN   \n",
       "720575940607193986                 NaN                 NaN   \n",
       "...                                ...                 ...   \n",
       "720575940649829241                 NaN                 NaN   \n",
       "720575940652580086                 NaN                 NaN   \n",
       "720575940655014049                 NaN                 NaN   \n",
       "720575940660219265                 NaN                 NaN   \n",
       "720575940660229505                 NaN                 NaN   \n",
       "\n",
       "exp_name            720575940629888530  720575940632889389  720575940637568838  \n",
       "flyid                                                                           \n",
       "720575940605301438                 NaN                 NaN                 NaN  \n",
       "720575940605658033                 NaN                 NaN                 NaN  \n",
       "720575940606607234                 NaN                 NaN                 NaN  \n",
       "720575940606866377                 NaN                 NaN            2.833333  \n",
       "720575940607193986                 NaN                 NaN                 NaN  \n",
       "...                                ...                 ...                 ...  \n",
       "720575940649829241            1.214286                 NaN                 NaN  \n",
       "720575940652580086           15.833333                 NaN                 NaN  \n",
       "720575940655014049                 NaN                 NaN                 NaN  \n",
       "720575940660219265            3.172414                 NaN                 NaN  \n",
       "720575940660229505                 NaN                 NaN                 NaN  \n",
       "\n",
       "[129 rows x 7 columns]"
      ]
     },
     "execution_count": 7,
     "metadata": {},
     "output_type": "execute_result"
    }
   ],
   "source": [
    "ps = [ './results/{}.parquet'.format(i) for i in id_top100 ][:7] # TODO\n",
    "\n",
    "df_spike = utl.load_exps(ps)\n",
    "df_rate, df_rate_std = utl.get_rate(df_spike, duration=params['t_run'])\n",
    "df_rate"
   ]
  },
  {
   "cell_type": "code",
   "execution_count": 8,
   "metadata": {},
   "outputs": [
    {
     "data": {
      "text/plain": [
       "exp_name\n",
       "720575940617937543    7.100000\n",
       "720575940629888530    3.172414\n",
       "Name: 720575940660219265, dtype: float64"
      ]
     },
     "execution_count": 8,
     "metadata": {},
     "output_type": "execute_result"
    }
   ],
   "source": [
    "id_mn9 = 720575940660219265\n",
    "df_rate.loc[ id_mn9, df_rate.loc[id_mn9, :] > 0 ]"
   ]
  },
  {
   "attachments": {},
   "cell_type": "markdown",
   "metadata": {},
   "source": [
    "# Experiement 3\n",
    "## Run simulation"
   ]
  },
  {
   "cell_type": "code",
   "execution_count": 17,
   "metadata": {},
   "outputs": [
    {
     "name": "stdout",
     "output_type": "stream",
     "text": [
      ">>> Experiment:     sugarR-720575940622695448\n",
      "    Output file:    results\\sugarR-720575940622695448.parquet\n",
      "    Exited neurons: sugar_r_0 sugar_r_1 sugar_r_2 sugar_r_3 sugar_r_4 sugar_r_5 sugar_r_6 sugar_r_7 sugar_r_8 sugar_r_9 sugar_r_10 sugar_r_11 sugar_r_12 sugar_r_13 sugar_r_14 sugar_r_15 sugar_r_16 sugar_r_17 sugar_r_18 sugar_r_19 sugar_r_20\n",
      "    Silenced neurons: 720575940622695448\n",
      "    Elapsed time:   338 s\n",
      ">>> Experiment:     sugarR-720575940632889389\n",
      "    Output file:    results\\sugarR-720575940632889389.parquet\n",
      "    Exited neurons: sugar_r_0 sugar_r_1 sugar_r_2 sugar_r_3 sugar_r_4 sugar_r_5 sugar_r_6 sugar_r_7 sugar_r_8 sugar_r_9 sugar_r_10 sugar_r_11 sugar_r_12 sugar_r_13 sugar_r_14 sugar_r_15 sugar_r_16 sugar_r_17 sugar_r_18 sugar_r_19 sugar_r_20\n",
      "    Silenced neurons: 720575940632889389\n",
      "    Elapsed time:   60 s\n",
      ">>> Experiment:     sugarR-720575940629888530\n",
      "    Output file:    results\\sugarR-720575940629888530.parquet\n",
      "    Exited neurons: sugar_r_0 sugar_r_1 sugar_r_2 sugar_r_3 sugar_r_4 sugar_r_5 sugar_r_6 sugar_r_7 sugar_r_8 sugar_r_9 sugar_r_10 sugar_r_11 sugar_r_12 sugar_r_13 sugar_r_14 sugar_r_15 sugar_r_16 sugar_r_17 sugar_r_18 sugar_r_19 sugar_r_20\n",
      "    Silenced neurons: 720575940629888530\n",
      "    Elapsed time:   61 s\n",
      ">>> Experiment:     sugarR-720575940637568838\n",
      "    Output file:    results\\sugarR-720575940637568838.parquet\n",
      "    Exited neurons: sugar_r_0 sugar_r_1 sugar_r_2 sugar_r_3 sugar_r_4 sugar_r_5 sugar_r_6 sugar_r_7 sugar_r_8 sugar_r_9 sugar_r_10 sugar_r_11 sugar_r_12 sugar_r_13 sugar_r_14 sugar_r_15 sugar_r_16 sugar_r_17 sugar_r_18 sugar_r_19 sugar_r_20\n",
      "    Silenced neurons: 720575940637568838\n"
     ]
    }
   ],
   "source": [
    "params['r_poi'] = 60 * Hz\n",
    "\n",
    "for i in id_top100:\n",
    "    run_exp(exp_name='sugarR-{}'.format(i), neu_exc=neu_sugar, neu_slnc=[ i ], name2flyid=name2flyid, params=params, **config)"
   ]
  },
  {
   "cell_type": "code",
   "execution_count": 9,
   "metadata": {},
   "outputs": [
    {
     "data": {
      "text/plain": [
       "exp_name\n",
       "sugarR-720575940629888530    30.866667\n",
       "sugarR-720575940632889389    36.133333\n",
       "sugarR-720575940622695448    47.033333\n",
       "Name: 720575940660219265, dtype: float64"
      ]
     },
     "execution_count": 9,
     "metadata": {},
     "output_type": "execute_result"
    }
   ],
   "source": [
    "ps = [ './results/sugarR-{}.parquet'.format(i) for i in id_top100 ][:3] # TODO\n",
    "\n",
    "df_spike = utl.load_exps(ps)\n",
    "df_rate, df_rate_std = utl.get_rate(df_spike, duration=params['t_run'])\n",
    "df_rate.loc[id_mn9, :].sort_values(ascending=True)[0:20]"
   ]
  }
 ],
 "metadata": {
  "kernelspec": {
   "display_name": "brian2",
   "language": "python",
   "name": "python3"
  },
  "language_info": {
   "codemirror_mode": {
    "name": "ipython",
    "version": 3
   },
   "file_extension": ".py",
   "mimetype": "text/x-python",
   "name": "python",
   "nbconvert_exporter": "python",
   "pygments_lexer": "ipython3",
   "version": "3.10.6"
  },
  "orig_nbformat": 4
 },
 "nbformat": 4,
 "nbformat_minor": 2
}
